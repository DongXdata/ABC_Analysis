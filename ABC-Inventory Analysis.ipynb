{
 "cells": [
  {
   "cell_type": "markdown",
   "metadata": {},
   "source": [
    "# Inventory Management --- ABC Analysis"
   ]
  },
  {
   "cell_type": "markdown",
   "metadata": {},
   "source": [
    "The project is to provide information about the number of items that constitute a certain percentage of inventory dollars and also help to distinguish the products in stock and focus on managing them based on their worth. Based on the result of the analysis, try to make maximum out of minimum investment without wasting any resources or inventory.\n"
   ]
  },
  {
   "cell_type": "markdown",
   "metadata": {},
   "source": [
    "## 1. Data Preparing"
   ]
  },
  {
   "cell_type": "markdown",
   "metadata": {},
   "source": [
    "### 1.1 Data loading"
   ]
  },
  {
   "cell_type": "code",
   "execution_count": 1,
   "metadata": {},
   "outputs": [],
   "source": [
    "\n",
    "import numpy as np\n",
    "import pandas as pd\n",
    "import matplotlib.pyplot as plt \n",
    "import seaborn as sns\n"
   ]
  },
  {
   "cell_type": "code",
   "execution_count": 2,
   "metadata": {},
   "outputs": [],
   "source": [
    "df = pd.read_csv('SalesKaggle3.csv')"
   ]
  },
  {
   "cell_type": "code",
   "execution_count": 3,
   "metadata": {},
   "outputs": [
    {
     "data": {
      "text/html": [
       "<div>\n",
       "<style scoped>\n",
       "    .dataframe tbody tr th:only-of-type {\n",
       "        vertical-align: middle;\n",
       "    }\n",
       "\n",
       "    .dataframe tbody tr th {\n",
       "        vertical-align: top;\n",
       "    }\n",
       "\n",
       "    .dataframe thead th {\n",
       "        text-align: right;\n",
       "    }\n",
       "</style>\n",
       "<table border=\"1\" class=\"dataframe\">\n",
       "  <thead>\n",
       "    <tr style=\"text-align: right;\">\n",
       "      <th></th>\n",
       "      <th>Order</th>\n",
       "      <th>File_Type</th>\n",
       "      <th>SKU_number</th>\n",
       "      <th>SoldFlag</th>\n",
       "      <th>SoldCount</th>\n",
       "      <th>MarketingType</th>\n",
       "      <th>ReleaseNumber</th>\n",
       "      <th>New_Release_Flag</th>\n",
       "      <th>StrengthFactor</th>\n",
       "      <th>PriceReg</th>\n",
       "      <th>ReleaseYear</th>\n",
       "      <th>ItemCount</th>\n",
       "      <th>LowUserPrice</th>\n",
       "      <th>LowNetPrice</th>\n",
       "    </tr>\n",
       "  </thead>\n",
       "  <tbody>\n",
       "    <tr>\n",
       "      <th>0</th>\n",
       "      <td>2</td>\n",
       "      <td>Historical</td>\n",
       "      <td>1737127</td>\n",
       "      <td>0.0</td>\n",
       "      <td>0.0</td>\n",
       "      <td>D</td>\n",
       "      <td>15</td>\n",
       "      <td>1</td>\n",
       "      <td>682743.0</td>\n",
       "      <td>44.99</td>\n",
       "      <td>2015</td>\n",
       "      <td>8</td>\n",
       "      <td>28.97</td>\n",
       "      <td>31.84</td>\n",
       "    </tr>\n",
       "    <tr>\n",
       "      <th>1</th>\n",
       "      <td>3</td>\n",
       "      <td>Historical</td>\n",
       "      <td>3255963</td>\n",
       "      <td>0.0</td>\n",
       "      <td>0.0</td>\n",
       "      <td>D</td>\n",
       "      <td>7</td>\n",
       "      <td>1</td>\n",
       "      <td>1016014.0</td>\n",
       "      <td>24.81</td>\n",
       "      <td>2005</td>\n",
       "      <td>39</td>\n",
       "      <td>0.00</td>\n",
       "      <td>15.54</td>\n",
       "    </tr>\n",
       "    <tr>\n",
       "      <th>2</th>\n",
       "      <td>4</td>\n",
       "      <td>Historical</td>\n",
       "      <td>612701</td>\n",
       "      <td>0.0</td>\n",
       "      <td>0.0</td>\n",
       "      <td>D</td>\n",
       "      <td>0</td>\n",
       "      <td>0</td>\n",
       "      <td>340464.0</td>\n",
       "      <td>46.00</td>\n",
       "      <td>2013</td>\n",
       "      <td>34</td>\n",
       "      <td>30.19</td>\n",
       "      <td>27.97</td>\n",
       "    </tr>\n",
       "    <tr>\n",
       "      <th>3</th>\n",
       "      <td>6</td>\n",
       "      <td>Historical</td>\n",
       "      <td>115883</td>\n",
       "      <td>1.0</td>\n",
       "      <td>1.0</td>\n",
       "      <td>D</td>\n",
       "      <td>4</td>\n",
       "      <td>1</td>\n",
       "      <td>334011.0</td>\n",
       "      <td>100.00</td>\n",
       "      <td>2006</td>\n",
       "      <td>20</td>\n",
       "      <td>133.93</td>\n",
       "      <td>83.15</td>\n",
       "    </tr>\n",
       "    <tr>\n",
       "      <th>4</th>\n",
       "      <td>7</td>\n",
       "      <td>Historical</td>\n",
       "      <td>863939</td>\n",
       "      <td>1.0</td>\n",
       "      <td>1.0</td>\n",
       "      <td>D</td>\n",
       "      <td>2</td>\n",
       "      <td>1</td>\n",
       "      <td>1287938.0</td>\n",
       "      <td>121.95</td>\n",
       "      <td>2010</td>\n",
       "      <td>28</td>\n",
       "      <td>4.00</td>\n",
       "      <td>23.99</td>\n",
       "    </tr>\n",
       "  </tbody>\n",
       "</table>\n",
       "</div>"
      ],
      "text/plain": [
       "   Order   File_Type  SKU_number  SoldFlag  SoldCount MarketingType  \\\n",
       "0      2  Historical     1737127       0.0        0.0             D   \n",
       "1      3  Historical     3255963       0.0        0.0             D   \n",
       "2      4  Historical      612701       0.0        0.0             D   \n",
       "3      6  Historical      115883       1.0        1.0             D   \n",
       "4      7  Historical      863939       1.0        1.0             D   \n",
       "\n",
       "   ReleaseNumber  New_Release_Flag  StrengthFactor  PriceReg  ReleaseYear  \\\n",
       "0             15                 1        682743.0     44.99         2015   \n",
       "1              7                 1       1016014.0     24.81         2005   \n",
       "2              0                 0        340464.0     46.00         2013   \n",
       "3              4                 1        334011.0    100.00         2006   \n",
       "4              2                 1       1287938.0    121.95         2010   \n",
       "\n",
       "   ItemCount  LowUserPrice  LowNetPrice  \n",
       "0          8         28.97        31.84  \n",
       "1         39          0.00        15.54  \n",
       "2         34         30.19        27.97  \n",
       "3         20        133.93        83.15  \n",
       "4         28          4.00        23.99  "
      ]
     },
     "execution_count": 3,
     "metadata": {},
     "output_type": "execute_result"
    }
   ],
   "source": [
    "df.head()"
   ]
  },
  {
   "cell_type": "markdown",
   "metadata": {},
   "source": [
    "### 1.2 Data preprocessing"
   ]
  },
  {
   "cell_type": "code",
   "execution_count": 4,
   "metadata": {},
   "outputs": [],
   "source": [
    "# take a subset of the data\n",
    "df_sub = df[['SKU_number','PriceReg','ItemCount','File_Type']][(df['File_Type']) == 'Historical']"
   ]
  },
  {
   "cell_type": "code",
   "execution_count": 5,
   "metadata": {},
   "outputs": [
    {
     "data": {
      "text/html": [
       "<div>\n",
       "<style scoped>\n",
       "    .dataframe tbody tr th:only-of-type {\n",
       "        vertical-align: middle;\n",
       "    }\n",
       "\n",
       "    .dataframe tbody tr th {\n",
       "        vertical-align: top;\n",
       "    }\n",
       "\n",
       "    .dataframe thead th {\n",
       "        text-align: right;\n",
       "    }\n",
       "</style>\n",
       "<table border=\"1\" class=\"dataframe\">\n",
       "  <thead>\n",
       "    <tr style=\"text-align: right;\">\n",
       "      <th></th>\n",
       "      <th>SKU_number</th>\n",
       "      <th>PriceReg</th>\n",
       "      <th>ItemCount</th>\n",
       "      <th>File_Type</th>\n",
       "    </tr>\n",
       "  </thead>\n",
       "  <tbody>\n",
       "    <tr>\n",
       "      <th>0</th>\n",
       "      <td>1737127</td>\n",
       "      <td>44.99</td>\n",
       "      <td>8</td>\n",
       "      <td>Historical</td>\n",
       "    </tr>\n",
       "    <tr>\n",
       "      <th>1</th>\n",
       "      <td>3255963</td>\n",
       "      <td>24.81</td>\n",
       "      <td>39</td>\n",
       "      <td>Historical</td>\n",
       "    </tr>\n",
       "    <tr>\n",
       "      <th>2</th>\n",
       "      <td>612701</td>\n",
       "      <td>46.00</td>\n",
       "      <td>34</td>\n",
       "      <td>Historical</td>\n",
       "    </tr>\n",
       "    <tr>\n",
       "      <th>3</th>\n",
       "      <td>115883</td>\n",
       "      <td>100.00</td>\n",
       "      <td>20</td>\n",
       "      <td>Historical</td>\n",
       "    </tr>\n",
       "    <tr>\n",
       "      <th>4</th>\n",
       "      <td>863939</td>\n",
       "      <td>121.95</td>\n",
       "      <td>28</td>\n",
       "      <td>Historical</td>\n",
       "    </tr>\n",
       "  </tbody>\n",
       "</table>\n",
       "</div>"
      ],
      "text/plain": [
       "   SKU_number  PriceReg  ItemCount   File_Type\n",
       "0     1737127     44.99          8  Historical\n",
       "1     3255963     24.81         39  Historical\n",
       "2      612701     46.00         34  Historical\n",
       "3      115883    100.00         20  Historical\n",
       "4      863939    121.95         28  Historical"
      ]
     },
     "execution_count": 5,
     "metadata": {},
     "output_type": "execute_result"
    }
   ],
   "source": [
    "df_sub.head()"
   ]
  },
  {
   "cell_type": "code",
   "execution_count": 6,
   "metadata": {},
   "outputs": [
    {
     "data": {
      "text/plain": [
       "(75996, 4)"
      ]
     },
     "execution_count": 6,
     "metadata": {},
     "output_type": "execute_result"
    }
   ],
   "source": [
    "df_sub.shape"
   ]
  },
  {
   "cell_type": "code",
   "execution_count": 7,
   "metadata": {},
   "outputs": [
    {
     "name": "stdout",
     "output_type": "stream",
     "text": [
      "<class 'pandas.core.frame.DataFrame'>\n",
      "Int64Index: 75996 entries, 0 to 75995\n",
      "Data columns (total 4 columns):\n",
      " #   Column      Non-Null Count  Dtype  \n",
      "---  ------      --------------  -----  \n",
      " 0   SKU_number  75996 non-null  int64  \n",
      " 1   PriceReg    75996 non-null  float64\n",
      " 2   ItemCount   75996 non-null  int64  \n",
      " 3   File_Type   75996 non-null  object \n",
      "dtypes: float64(1), int64(2), object(1)\n",
      "memory usage: 2.9+ MB\n"
     ]
    }
   ],
   "source": [
    "df_sub.info()"
   ]
  },
  {
   "cell_type": "code",
   "execution_count": 8,
   "metadata": {},
   "outputs": [
    {
     "data": {
      "text/plain": [
       "0"
      ]
     },
     "execution_count": 8,
     "metadata": {},
     "output_type": "execute_result"
    }
   ],
   "source": [
    "df_sub.duplicated().sum()"
   ]
  },
  {
   "cell_type": "markdown",
   "metadata": {},
   "source": [
    "## 2. ABC Analysis (1st method)"
   ]
  },
  {
   "cell_type": "code",
   "execution_count": 9,
   "metadata": {},
   "outputs": [],
   "source": [
    "# create 3 grades A,B,C based on the running percentage (A-60%,B-25%,C-15%)\n",
    "def ABC_segmentation(RunPerc):\n",
    "    if RunPerc > 0 and RunPerc < 0.6:\n",
    "        return 'A'\n",
    "    elif RunPerc >=0.6 and RunPerc < 0.85:\n",
    "        return 'B'\n",
    "    elif RunPerc >=0.85:\n",
    "        return 'C'"
   ]
  },
  {
   "cell_type": "code",
   "execution_count": 10,
   "metadata": {},
   "outputs": [],
   "source": [
    "# create the column of the additive cost per SKU\n",
    "df_sub['AddCost'] = df_sub['PriceReg'] * df_sub['ItemCount']"
   ]
  },
  {
   "cell_type": "code",
   "execution_count": 11,
   "metadata": {},
   "outputs": [],
   "source": [
    "# order by AddCost\n",
    "df_sub = df_sub.sort_values(by=['AddCost'], ascending=False)"
   ]
  },
  {
   "cell_type": "code",
   "execution_count": 12,
   "metadata": {},
   "outputs": [],
   "source": [
    "# create the column of the running CumCost of the cumulative cost per SKU\n",
    "df_sub['RunCumCost'] = df_sub['AddCost'].cumsum()"
   ]
  },
  {
   "cell_type": "code",
   "execution_count": 13,
   "metadata": {},
   "outputs": [],
   "source": [
    "# create the column of the total sum\n",
    "df_sub['TotSum'] = df_sub['AddCost'].sum()"
   ]
  },
  {
   "cell_type": "code",
   "execution_count": 14,
   "metadata": {},
   "outputs": [],
   "source": [
    "# create the column of the running percentage \n",
    "df_sub['RunPerc'] = df_sub['RunCumCost'] / df_sub['TotSum']"
   ]
  },
  {
   "cell_type": "code",
   "execution_count": 15,
   "metadata": {},
   "outputs": [],
   "source": [
    "# create the column of the class\n",
    "df_sub['Class'] = df_sub['RunPerc'].apply(ABC_segmentation)"
   ]
  },
  {
   "cell_type": "code",
   "execution_count": 16,
   "metadata": {},
   "outputs": [
    {
     "data": {
      "text/html": [
       "<div>\n",
       "<style scoped>\n",
       "    .dataframe tbody tr th:only-of-type {\n",
       "        vertical-align: middle;\n",
       "    }\n",
       "\n",
       "    .dataframe tbody tr th {\n",
       "        vertical-align: top;\n",
       "    }\n",
       "\n",
       "    .dataframe thead th {\n",
       "        text-align: right;\n",
       "    }\n",
       "</style>\n",
       "<table border=\"1\" class=\"dataframe\">\n",
       "  <thead>\n",
       "    <tr style=\"text-align: right;\">\n",
       "      <th></th>\n",
       "      <th>SKU_number</th>\n",
       "      <th>PriceReg</th>\n",
       "      <th>ItemCount</th>\n",
       "      <th>File_Type</th>\n",
       "      <th>AddCost</th>\n",
       "      <th>RunCumCost</th>\n",
       "      <th>TotSum</th>\n",
       "      <th>RunPerc</th>\n",
       "      <th>Class</th>\n",
       "    </tr>\n",
       "  </thead>\n",
       "  <tbody>\n",
       "    <tr>\n",
       "      <th>685</th>\n",
       "      <td>145889</td>\n",
       "      <td>244.6</td>\n",
       "      <td>851</td>\n",
       "      <td>Historical</td>\n",
       "      <td>208154.6</td>\n",
       "      <td>2.081546e+05</td>\n",
       "      <td>3.426320e+08</td>\n",
       "      <td>0.000608</td>\n",
       "      <td>A</td>\n",
       "    </tr>\n",
       "    <tr>\n",
       "      <th>601</th>\n",
       "      <td>435034</td>\n",
       "      <td>281.8</td>\n",
       "      <td>616</td>\n",
       "      <td>Historical</td>\n",
       "      <td>173588.8</td>\n",
       "      <td>3.817434e+05</td>\n",
       "      <td>3.426320e+08</td>\n",
       "      <td>0.001114</td>\n",
       "      <td>A</td>\n",
       "    </tr>\n",
       "    <tr>\n",
       "      <th>75056</th>\n",
       "      <td>538479</td>\n",
       "      <td>2645.3</td>\n",
       "      <td>49</td>\n",
       "      <td>Historical</td>\n",
       "      <td>129619.7</td>\n",
       "      <td>5.113631e+05</td>\n",
       "      <td>3.426320e+08</td>\n",
       "      <td>0.001492</td>\n",
       "      <td>A</td>\n",
       "    </tr>\n",
       "    <tr>\n",
       "      <th>5752</th>\n",
       "      <td>212633</td>\n",
       "      <td>235.6</td>\n",
       "      <td>521</td>\n",
       "      <td>Historical</td>\n",
       "      <td>122747.6</td>\n",
       "      <td>6.341107e+05</td>\n",
       "      <td>3.426320e+08</td>\n",
       "      <td>0.001851</td>\n",
       "      <td>A</td>\n",
       "    </tr>\n",
       "    <tr>\n",
       "      <th>3758</th>\n",
       "      <td>212480</td>\n",
       "      <td>208.8</td>\n",
       "      <td>579</td>\n",
       "      <td>Historical</td>\n",
       "      <td>120895.2</td>\n",
       "      <td>7.550059e+05</td>\n",
       "      <td>3.426320e+08</td>\n",
       "      <td>0.002204</td>\n",
       "      <td>A</td>\n",
       "    </tr>\n",
       "    <tr>\n",
       "      <th>...</th>\n",
       "      <td>...</td>\n",
       "      <td>...</td>\n",
       "      <td>...</td>\n",
       "      <td>...</td>\n",
       "      <td>...</td>\n",
       "      <td>...</td>\n",
       "      <td>...</td>\n",
       "      <td>...</td>\n",
       "      <td>...</td>\n",
       "    </tr>\n",
       "    <tr>\n",
       "      <th>4214</th>\n",
       "      <td>494166</td>\n",
       "      <td>0.0</td>\n",
       "      <td>7</td>\n",
       "      <td>Historical</td>\n",
       "      <td>0.0</td>\n",
       "      <td>3.426320e+08</td>\n",
       "      <td>3.426320e+08</td>\n",
       "      <td>1.000000</td>\n",
       "      <td>C</td>\n",
       "    </tr>\n",
       "    <tr>\n",
       "      <th>57965</th>\n",
       "      <td>1758095</td>\n",
       "      <td>0.0</td>\n",
       "      <td>8</td>\n",
       "      <td>Historical</td>\n",
       "      <td>0.0</td>\n",
       "      <td>3.426320e+08</td>\n",
       "      <td>3.426320e+08</td>\n",
       "      <td>1.000000</td>\n",
       "      <td>C</td>\n",
       "    </tr>\n",
       "    <tr>\n",
       "      <th>40803</th>\n",
       "      <td>744731</td>\n",
       "      <td>0.0</td>\n",
       "      <td>0</td>\n",
       "      <td>Historical</td>\n",
       "      <td>0.0</td>\n",
       "      <td>3.426320e+08</td>\n",
       "      <td>3.426320e+08</td>\n",
       "      <td>1.000000</td>\n",
       "      <td>C</td>\n",
       "    </tr>\n",
       "    <tr>\n",
       "      <th>40847</th>\n",
       "      <td>878815</td>\n",
       "      <td>0.0</td>\n",
       "      <td>29</td>\n",
       "      <td>Historical</td>\n",
       "      <td>0.0</td>\n",
       "      <td>3.426320e+08</td>\n",
       "      <td>3.426320e+08</td>\n",
       "      <td>1.000000</td>\n",
       "      <td>C</td>\n",
       "    </tr>\n",
       "    <tr>\n",
       "      <th>16367</th>\n",
       "      <td>874179</td>\n",
       "      <td>0.0</td>\n",
       "      <td>29</td>\n",
       "      <td>Historical</td>\n",
       "      <td>0.0</td>\n",
       "      <td>3.426320e+08</td>\n",
       "      <td>3.426320e+08</td>\n",
       "      <td>1.000000</td>\n",
       "      <td>C</td>\n",
       "    </tr>\n",
       "  </tbody>\n",
       "</table>\n",
       "<p>75996 rows × 9 columns</p>\n",
       "</div>"
      ],
      "text/plain": [
       "       SKU_number  PriceReg  ItemCount   File_Type   AddCost    RunCumCost  \\\n",
       "685        145889     244.6        851  Historical  208154.6  2.081546e+05   \n",
       "601        435034     281.8        616  Historical  173588.8  3.817434e+05   \n",
       "75056      538479    2645.3         49  Historical  129619.7  5.113631e+05   \n",
       "5752       212633     235.6        521  Historical  122747.6  6.341107e+05   \n",
       "3758       212480     208.8        579  Historical  120895.2  7.550059e+05   \n",
       "...           ...       ...        ...         ...       ...           ...   \n",
       "4214       494166       0.0          7  Historical       0.0  3.426320e+08   \n",
       "57965     1758095       0.0          8  Historical       0.0  3.426320e+08   \n",
       "40803      744731       0.0          0  Historical       0.0  3.426320e+08   \n",
       "40847      878815       0.0         29  Historical       0.0  3.426320e+08   \n",
       "16367      874179       0.0         29  Historical       0.0  3.426320e+08   \n",
       "\n",
       "             TotSum   RunPerc Class  \n",
       "685    3.426320e+08  0.000608     A  \n",
       "601    3.426320e+08  0.001114     A  \n",
       "75056  3.426320e+08  0.001492     A  \n",
       "5752   3.426320e+08  0.001851     A  \n",
       "3758   3.426320e+08  0.002204     A  \n",
       "...             ...       ...   ...  \n",
       "4214   3.426320e+08  1.000000     C  \n",
       "57965  3.426320e+08  1.000000     C  \n",
       "40803  3.426320e+08  1.000000     C  \n",
       "40847  3.426320e+08  1.000000     C  \n",
       "16367  3.426320e+08  1.000000     C  \n",
       "\n",
       "[75996 rows x 9 columns]"
      ]
     },
     "execution_count": 16,
     "metadata": {},
     "output_type": "execute_result"
    }
   ],
   "source": [
    "df_sub"
   ]
  },
  {
   "cell_type": "code",
   "execution_count": 17,
   "metadata": {},
   "outputs": [
    {
     "data": {
      "text/plain": [
       "C    37413\n",
       "B    22288\n",
       "A    16295\n",
       "Name: Class, dtype: int64"
      ]
     },
     "execution_count": 17,
     "metadata": {},
     "output_type": "execute_result"
    }
   ],
   "source": [
    "# total SKUs for each class\n",
    "df_sub.Class.value_counts()"
   ]
  },
  {
   "cell_type": "code",
   "execution_count": 18,
   "metadata": {},
   "outputs": [
    {
     "name": "stdout",
     "output_type": "stream",
     "text": [
      "Cost of Class A: 205577451.4\n",
      "Cost of Class B: 85658215.25999999\n",
      "Cost of Class C: 51396361.129999995\n"
     ]
    }
   ],
   "source": [
    "# total cost per class\n",
    "print('Cost of Class A:', df_sub[df_sub.Class == 'A']['AddCost'].sum())\n",
    "print('Cost of Class B:', df_sub[df_sub.Class == 'B']['AddCost'].sum())\n",
    "print('Cost of Class C:', df_sub[df_sub.Class == 'C']['AddCost'].sum())"
   ]
  },
  {
   "cell_type": "code",
   "execution_count": 19,
   "metadata": {},
   "outputs": [
    {
     "name": "stdout",
     "output_type": "stream",
     "text": [
      "Percent of Cost of A: 0.5999948479013728\n",
      "Percent of Cost of B: 0.2500006079773141\n",
      "Percent of Cost of C: 0.15000454412131298\n"
     ]
    }
   ],
   "source": [
    "# percent of total cost per class\n",
    "print('Percent of Cost of A:',df_sub[df_sub.Class == 'A']['AddCost'].sum()/df_sub['AddCost'].sum())\n",
    "print('Percent of Cost of B:',df_sub[df_sub.Class == 'B']['AddCost'].sum()/df_sub['AddCost'].sum())\n",
    "print('Percent of Cost of C:',df_sub[df_sub.Class == 'C']['AddCost'].sum()/df_sub['AddCost'].sum())"
   ]
  },
  {
   "cell_type": "markdown",
   "metadata": {},
   "source": [
    "## Summarize Results"
   ]
  },
  {
   "cell_type": "markdown",
   "metadata": {},
   "source": [
     <img width="358" alt="ABC_analysis" src="https://user-images.githubusercontent.com/109638159/179880309-cc8465a2-b6a1-4919-a693-3dca811ab5ac.png">
   ]
  },
  {
   "cell_type": "markdown",
   "metadata": {},
   "source": [
    "Category A items represent 21% of an overall inventory by item and represent 60% of value of an inventory.\\\n",
    "Category B items represent 30% of inventory items by item, and about 25% of the value. \\\n",
    "Category C items represent 49% of actual items but only 15% of the inventory value."
   ]
  },
  {
   "cell_type": "code",
   "execution_count": 20,
   "metadata": {},
   "outputs": [
    {
     "data": {
      "image/png": "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\n",
      "text/plain": [
       "<Figure size 432x288 with 1 Axes>"
      ]
     },
     "metadata": {
      "needs_background": "light"
     },
     "output_type": "display_data"
    }
   ],
   "source": [
    "performance =df_sub['AddCost'].tolist()\n",
    "y_pos = np.arange(len(performance))\n",
    "\n",
    "plt.plot(y_pos, performance)\n",
    "plt.ylabel('Cost')\n",
    "plt.title('ABC Analysis - Cost per SKU')\n",
    "plt.grid(True)\n",
    "plt.ylim((0,250000))\n",
    "plt.show()"
   ]
  },
  {
   "cell_type": "code",
   "execution_count": 21,
   "metadata": {},
   "outputs": [
    {
     "data": {
      "image/png": "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\n",
      "text/plain": [
       "<Figure size 432x288 with 1 Axes>"
      ]
     },
     "metadata": {
      "needs_background": "light"
     },
     "output_type": "display_data"
    }
   ],
   "source": [
    "performance = df_sub['RunPerc'].tolist()\n",
    "y_pos = np.arange(len(performance))\n",
    "\n",
    "plt.plot(y_pos,performance)\n",
    "plt.ylabel('Running Total Percentage')\n",
    "plt.title('ABC Analysis - Cumulative Cost per SKU')\n",
    "plt.grid(True)\n",
    "plt.show()"
   ]
  },
  {
   "cell_type": "code",
   "execution_count": null,
   "metadata": {},
   "outputs": [],
   "source": []
  },
  {
   "cell_type": "markdown",
   "metadata": {},
   "source": [
    "## 3. ABC Analysis (2st method build-in function)"
   ]
  },
  {
   "cell_type": "code",
   "execution_count": 22,
   "metadata": {},
   "outputs": [],
   "source": [
    "from abc_analysis import abc_analysis, abc_plot"
   ]
  },
  {
   "cell_type": "code",
   "execution_count": 23,
   "metadata": {},
   "outputs": [],
   "source": [
    "# take a subset of the data, we need to use the price and the quantity of each item\n",
    "df_sub = df[['SKU_number','PriceReg','ItemCount','File_Type']][(df['File_Type'] == 'Historical')]\n",
    "# create the column of the additive cost per SKU\n",
    "df_sub['AddCost'] = df['PriceReg'] * df['ItemCount']"
   ]
  },
  {
   "cell_type": "code",
   "execution_count": 24,
   "metadata": {},
   "outputs": [
    {
     "data": {
      "text/html": [
       "<div>\n",
       "<style scoped>\n",
       "    .dataframe tbody tr th:only-of-type {\n",
       "        vertical-align: middle;\n",
       "    }\n",
       "\n",
       "    .dataframe tbody tr th {\n",
       "        vertical-align: top;\n",
       "    }\n",
       "\n",
       "    .dataframe thead th {\n",
       "        text-align: right;\n",
       "    }\n",
       "</style>\n",
       "<table border=\"1\" class=\"dataframe\">\n",
       "  <thead>\n",
       "    <tr style=\"text-align: right;\">\n",
       "      <th></th>\n",
       "      <th>SKU_number</th>\n",
       "      <th>PriceReg</th>\n",
       "      <th>ItemCount</th>\n",
       "      <th>File_Type</th>\n",
       "      <th>AddCost</th>\n",
       "    </tr>\n",
       "  </thead>\n",
       "  <tbody>\n",
       "    <tr>\n",
       "      <th>0</th>\n",
       "      <td>1737127</td>\n",
       "      <td>44.99</td>\n",
       "      <td>8</td>\n",
       "      <td>Historical</td>\n",
       "      <td>359.92</td>\n",
       "    </tr>\n",
       "    <tr>\n",
       "      <th>1</th>\n",
       "      <td>3255963</td>\n",
       "      <td>24.81</td>\n",
       "      <td>39</td>\n",
       "      <td>Historical</td>\n",
       "      <td>967.59</td>\n",
       "    </tr>\n",
       "    <tr>\n",
       "      <th>2</th>\n",
       "      <td>612701</td>\n",
       "      <td>46.00</td>\n",
       "      <td>34</td>\n",
       "      <td>Historical</td>\n",
       "      <td>1564.00</td>\n",
       "    </tr>\n",
       "    <tr>\n",
       "      <th>3</th>\n",
       "      <td>115883</td>\n",
       "      <td>100.00</td>\n",
       "      <td>20</td>\n",
       "      <td>Historical</td>\n",
       "      <td>2000.00</td>\n",
       "    </tr>\n",
       "    <tr>\n",
       "      <th>4</th>\n",
       "      <td>863939</td>\n",
       "      <td>121.95</td>\n",
       "      <td>28</td>\n",
       "      <td>Historical</td>\n",
       "      <td>3414.60</td>\n",
       "    </tr>\n",
       "    <tr>\n",
       "      <th>...</th>\n",
       "      <td>...</td>\n",
       "      <td>...</td>\n",
       "      <td>...</td>\n",
       "      <td>...</td>\n",
       "      <td>...</td>\n",
       "    </tr>\n",
       "    <tr>\n",
       "      <th>75991</th>\n",
       "      <td>863599</td>\n",
       "      <td>64.99</td>\n",
       "      <td>34</td>\n",
       "      <td>Historical</td>\n",
       "      <td>2209.66</td>\n",
       "    </tr>\n",
       "    <tr>\n",
       "      <th>75992</th>\n",
       "      <td>614304</td>\n",
       "      <td>21.50</td>\n",
       "      <td>53</td>\n",
       "      <td>Historical</td>\n",
       "      <td>1139.50</td>\n",
       "    </tr>\n",
       "    <tr>\n",
       "      <th>75993</th>\n",
       "      <td>109021</td>\n",
       "      <td>142.75</td>\n",
       "      <td>19</td>\n",
       "      <td>Historical</td>\n",
       "      <td>2712.25</td>\n",
       "    </tr>\n",
       "    <tr>\n",
       "      <th>75994</th>\n",
       "      <td>658242</td>\n",
       "      <td>50.00</td>\n",
       "      <td>21</td>\n",
       "      <td>Historical</td>\n",
       "      <td>1050.00</td>\n",
       "    </tr>\n",
       "    <tr>\n",
       "      <th>75995</th>\n",
       "      <td>2538340</td>\n",
       "      <td>46.95</td>\n",
       "      <td>23</td>\n",
       "      <td>Historical</td>\n",
       "      <td>1079.85</td>\n",
       "    </tr>\n",
       "  </tbody>\n",
       "</table>\n",
       "<p>75996 rows × 5 columns</p>\n",
       "</div>"
      ],
      "text/plain": [
       "       SKU_number  PriceReg  ItemCount   File_Type  AddCost\n",
       "0         1737127     44.99          8  Historical   359.92\n",
       "1         3255963     24.81         39  Historical   967.59\n",
       "2          612701     46.00         34  Historical  1564.00\n",
       "3          115883    100.00         20  Historical  2000.00\n",
       "4          863939    121.95         28  Historical  3414.60\n",
       "...           ...       ...        ...         ...      ...\n",
       "75991      863599     64.99         34  Historical  2209.66\n",
       "75992      614304     21.50         53  Historical  1139.50\n",
       "75993      109021    142.75         19  Historical  2712.25\n",
       "75994      658242     50.00         21  Historical  1050.00\n",
       "75995     2538340     46.95         23  Historical  1079.85\n",
       "\n",
       "[75996 rows x 5 columns]"
      ]
     },
     "execution_count": 24,
     "metadata": {},
     "output_type": "execute_result"
    }
   ],
   "source": [
    "df_sub"
   ]
  },
  {
   "cell_type": "code",
   "execution_count": 25,
   "metadata": {},
   "outputs": [
    {
     "data": {
      "image/png": "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\n",
      "text/plain": [
       "<Figure size 432x432 with 1 Axes>"
      ]
     },
     "metadata": {},
     "output_type": "display_data"
    }
   ],
   "source": [
    "#Draw the ABC Graph\n",
    "abc = abc_analysis(df_sub['AddCost'], True)"
   ]
  },
  {
   "cell_type": "code",
   "execution_count": 26,
   "metadata": {},
   "outputs": [
    {
     "data": {
      "text/html": [
       "<div>\n",
       "<style scoped>\n",
       "    .dataframe tbody tr th:only-of-type {\n",
       "        vertical-align: middle;\n",
       "    }\n",
       "\n",
       "    .dataframe tbody tr th {\n",
       "        vertical-align: top;\n",
       "    }\n",
       "\n",
       "    .dataframe thead th {\n",
       "        text-align: right;\n",
       "    }\n",
       "</style>\n",
       "<table border=\"1\" class=\"dataframe\">\n",
       "  <thead>\n",
       "    <tr style=\"text-align: right;\">\n",
       "      <th></th>\n",
       "      <th>SKU_number</th>\n",
       "      <th>PriceReg</th>\n",
       "      <th>ItemCount</th>\n",
       "      <th>File_Type</th>\n",
       "      <th>AddCost</th>\n",
       "      <th>abc</th>\n",
       "    </tr>\n",
       "  </thead>\n",
       "  <tbody>\n",
       "    <tr>\n",
       "      <th>685</th>\n",
       "      <td>145889</td>\n",
       "      <td>244.6</td>\n",
       "      <td>851</td>\n",
       "      <td>Historical</td>\n",
       "      <td>208154.6</td>\n",
       "      <td>A</td>\n",
       "    </tr>\n",
       "    <tr>\n",
       "      <th>601</th>\n",
       "      <td>435034</td>\n",
       "      <td>281.8</td>\n",
       "      <td>616</td>\n",
       "      <td>Historical</td>\n",
       "      <td>173588.8</td>\n",
       "      <td>A</td>\n",
       "    </tr>\n",
       "    <tr>\n",
       "      <th>75056</th>\n",
       "      <td>538479</td>\n",
       "      <td>2645.3</td>\n",
       "      <td>49</td>\n",
       "      <td>Historical</td>\n",
       "      <td>129619.7</td>\n",
       "      <td>A</td>\n",
       "    </tr>\n",
       "    <tr>\n",
       "      <th>5752</th>\n",
       "      <td>212633</td>\n",
       "      <td>235.6</td>\n",
       "      <td>521</td>\n",
       "      <td>Historical</td>\n",
       "      <td>122747.6</td>\n",
       "      <td>A</td>\n",
       "    </tr>\n",
       "    <tr>\n",
       "      <th>3758</th>\n",
       "      <td>212480</td>\n",
       "      <td>208.8</td>\n",
       "      <td>579</td>\n",
       "      <td>Historical</td>\n",
       "      <td>120895.2</td>\n",
       "      <td>A</td>\n",
       "    </tr>\n",
       "    <tr>\n",
       "      <th>...</th>\n",
       "      <td>...</td>\n",
       "      <td>...</td>\n",
       "      <td>...</td>\n",
       "      <td>...</td>\n",
       "      <td>...</td>\n",
       "      <td>...</td>\n",
       "    </tr>\n",
       "    <tr>\n",
       "      <th>4214</th>\n",
       "      <td>494166</td>\n",
       "      <td>0.0</td>\n",
       "      <td>7</td>\n",
       "      <td>Historical</td>\n",
       "      <td>0.0</td>\n",
       "      <td>C</td>\n",
       "    </tr>\n",
       "    <tr>\n",
       "      <th>57965</th>\n",
       "      <td>1758095</td>\n",
       "      <td>0.0</td>\n",
       "      <td>8</td>\n",
       "      <td>Historical</td>\n",
       "      <td>0.0</td>\n",
       "      <td>C</td>\n",
       "    </tr>\n",
       "    <tr>\n",
       "      <th>40803</th>\n",
       "      <td>744731</td>\n",
       "      <td>0.0</td>\n",
       "      <td>0</td>\n",
       "      <td>Historical</td>\n",
       "      <td>0.0</td>\n",
       "      <td>C</td>\n",
       "    </tr>\n",
       "    <tr>\n",
       "      <th>40847</th>\n",
       "      <td>878815</td>\n",
       "      <td>0.0</td>\n",
       "      <td>29</td>\n",
       "      <td>Historical</td>\n",
       "      <td>0.0</td>\n",
       "      <td>C</td>\n",
       "    </tr>\n",
       "    <tr>\n",
       "      <th>16367</th>\n",
       "      <td>874179</td>\n",
       "      <td>0.0</td>\n",
       "      <td>29</td>\n",
       "      <td>Historical</td>\n",
       "      <td>0.0</td>\n",
       "      <td>C</td>\n",
       "    </tr>\n",
       "  </tbody>\n",
       "</table>\n",
       "<p>75996 rows × 6 columns</p>\n",
       "</div>"
      ],
      "text/plain": [
       "       SKU_number  PriceReg  ItemCount   File_Type   AddCost abc\n",
       "685        145889     244.6        851  Historical  208154.6   A\n",
       "601        435034     281.8        616  Historical  173588.8   A\n",
       "75056      538479    2645.3         49  Historical  129619.7   A\n",
       "5752       212633     235.6        521  Historical  122747.6   A\n",
       "3758       212480     208.8        579  Historical  120895.2   A\n",
       "...           ...       ...        ...         ...       ...  ..\n",
       "4214       494166       0.0          7  Historical       0.0   C\n",
       "57965     1758095       0.0          8  Historical       0.0   C\n",
       "40803      744731       0.0          0  Historical       0.0   C\n",
       "40847      878815       0.0         29  Historical       0.0   C\n",
       "16367      874179       0.0         29  Historical       0.0   C\n",
       "\n",
       "[75996 rows x 6 columns]"
      ]
     },
     "execution_count": 26,
     "metadata": {},
     "output_type": "execute_result"
    }
   ],
   "source": [
    "# idnex position of A, B, and C Segmentations\n",
    "a_index = abc['Aind']\n",
    "b_index = abc['Bind']\n",
    "c_index = abc['Cind']\n",
    "\n",
    "# New Column indicating A, B, or C\n",
    "cond_list = [df_sub.index.isin(a_index),\n",
    "             df_sub.index.isin(b_index),\n",
    "             df_sub.index.isin(c_index)]\n",
    "\n",
    "choice_list = ['A','B','C']\n",
    "\n",
    "df_sub['abc'] = np.select(cond_list, choice_list)\n",
    "df_sub.sort_values(by=['AddCost'], ascending=False)"
   ]
  },
  {
   "cell_type": "code",
   "execution_count": 27,
   "metadata": {},
   "outputs": [
    {
     "data": {
      "text/plain": [
       "C    43074\n",
       "A    22036\n",
       "B    10886\n",
       "Name: abc, dtype: int64"
      ]
     },
     "execution_count": 27,
     "metadata": {},
     "output_type": "execute_result"
    }
   ],
   "source": [
    "df_sub['abc'].value_counts()"
   ]
  },
  {
   "cell_type": "code",
   "execution_count": null,
   "metadata": {},
   "outputs": [],
   "source": []
  }
 ],
 "metadata": {
  "kernelspec": {
   "display_name": "Python 3",
   "language": "python",
   "name": "python3"
  },
  "language_info": {
   "codemirror_mode": {
    "name": "ipython",
    "version": 3
   },
   "file_extension": ".py",
   "mimetype": "text/x-python",
   "name": "python",
   "nbconvert_exporter": "python",
   "pygments_lexer": "ipython3",
   "version": "3.8.8"
  }
 },
 "nbformat": 4,
 "nbformat_minor": 4
}
